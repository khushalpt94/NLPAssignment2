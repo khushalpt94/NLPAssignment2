{
  "nbformat": 4,
  "nbformat_minor": 0,
  "metadata": {
    "colab": {
      "name": "NLP_Assignment2.ipynb",
      "provenance": [],
      "collapsed_sections": []
    },
    "kernelspec": {
      "name": "python3",
      "display_name": "Python 3"
    },
    "accelerator": "GPU"
  },
  "cells": [
    {
      "cell_type": "code",
      "metadata": {
        "id": "NKoWN9X4Lqsy",
        "colab_type": "code",
        "colab": {}
      },
      "source": [
        "#importing the libraries that will help with the implementation\n",
        "\n",
        "%%capture\n",
        "%pylab inline\n",
        "\n",
        "import warnings\n",
        "warnings.filterwarnings('ignore')\n",
        "import csv\n",
        "import pandas as pd\n",
        "import numpy as np\n",
        "import seaborn as sns\n",
        "from sklearn.feature_extraction.text import TfidfVectorizer,CountVectorizer\n",
        "from sklearn.feature_extraction.stop_words import ENGLISH_STOP_WORDS\n",
        "from sklearn import metrics\n",
        "from sklearn.model_selection import train_test_split\n",
        "import matplotlib.pyplot as plt\n",
        "from sklearn.model_selection import cross_val_score\n",
        "from sklearn.svm import SVC\n",
        "from sklearn.linear_model import LogisticRegression\n",
        "from sklearn.naive_bayes import MultinomialNB\n",
        "from os import path\n",
        "from PIL import Image\n",
        "from wordcloud import WordCloud, STOPWORDS, ImageColorGenerator\n",
        "\n",
        "import pandas as pd\n",
        "\n",
        "import seaborn as sns\n",
        "sns.set(style=\"white\", rc={\"axes.facecolor\": (0, 0, 0, 0)})\n",
        "\n",
        "from wordcloud import WordCloud, STOPWORDS\n",
        "from collections import Counter\n",
        "\n",
        "np.random.seed(10)\n",
        "\n",
        "from keras.utils import to_categorical\n",
        "import random\n",
        "from tensorflow import set_random_seed\n",
        "from sklearn.model_selection import train_test_split\n",
        "from keras.preprocessing import sequence\n",
        "from keras.preprocessing.text import Tokenizer\n",
        "from keras.layers import Dense,Dropout,Embedding,LSTM\n",
        "from keras.callbacks import EarlyStopping\n",
        "from keras.losses import categorical_crossentropy\n",
        "from keras.optimizers import Adam\n",
        "from keras.models import Sequential\n",
        "\n",
        "#set random seed for the session and also for tensorflow that runs in background for keras\n",
        "set_random_seed(123)\n",
        "random.seed(123)"
      ],
      "execution_count": 0,
      "outputs": []
    },
    {
      "cell_type": "code",
      "metadata": {
        "id": "ZLnhJItPMVYb",
        "colab_type": "code",
        "colab": {}
      },
      "source": [
        "#Read the data from the link provided\n",
        "\n",
        "URL_Tr ='https://raw.githubusercontent.com/cacoderquan/Sentiment-Analysis-on-the-Rotten-Tomatoes-movie-review-dataset/master/train.tsv'\n",
        "\n",
        "df = pd.read_csv(URL_Tr,sep='\\t')\n"
      ],
      "execution_count": 0,
      "outputs": []
    },
    {
      "cell_type": "code",
      "metadata": {
        "id": "iFWPnYrINUOX",
        "colab_type": "code",
        "outputId": "124d8c4e-5ccf-41c9-ddce-0fbd0795f1fa",
        "colab": {
          "base_uri": "https://localhost:8080/",
          "height": 106
        }
      },
      "source": [
        "df.count()"
      ],
      "execution_count": 0,
      "outputs": [
        {
          "output_type": "execute_result",
          "data": {
            "text/plain": [
              "PhraseId      156060\n",
              "SentenceId    156060\n",
              "Phrase        156060\n",
              "Sentiment     156060\n",
              "dtype: int64"
            ]
          },
          "metadata": {
            "tags": []
          },
          "execution_count": 50
        }
      ]
    },
    {
      "cell_type": "code",
      "metadata": {
        "id": "ciRN6W5NMXjK",
        "colab_type": "code",
        "outputId": "e75892c8-09e0-463c-e2e4-ff2b3abb3df5",
        "colab": {
          "base_uri": "https://localhost:8080/",
          "height": 35
        }
      },
      "source": [
        "#total number of sentences\n",
        "\n",
        "print('Total number of sentences : ' , len(df.SentenceId.unique()))\n"
      ],
      "execution_count": 0,
      "outputs": [
        {
          "output_type": "stream",
          "text": [
            "Total number of sentences :  8529\n"
          ],
          "name": "stdout"
        }
      ]
    },
    {
      "cell_type": "code",
      "metadata": {
        "id": "DLWGKATbwOe_",
        "colab_type": "code",
        "outputId": "31e9ff5f-bc9d-42f6-aa30-d3319230713e",
        "colab": {
          "base_uri": "https://localhost:8080/",
          "height": 356
        }
      },
      "source": [
        "df.plot.scatter(x='PhraseId', y='SentenceId', title='Dataset')\n"
      ],
      "execution_count": 0,
      "outputs": [
        {
          "output_type": "stream",
          "text": [
            "'c' argument looks like a single numeric RGB or RGBA sequence, which should be avoided as value-mapping will have precedence in case its length matches with 'x' & 'y'.  Please use a 2-D array with a single row if you really want to specify the same RGB or RGBA value for all points.\n"
          ],
          "name": "stderr"
        },
        {
          "output_type": "execute_result",
          "data": {
            "text/plain": [
              "<matplotlib.axes._subplots.AxesSubplot at 0x7f673b304cc0>"
            ]
          },
          "metadata": {
            "tags": []
          },
          "execution_count": 52
        },
        {
          "output_type": "display_data",
          "data": {
            "image/png": "[encoded data removed]",
            "text/plain": [
              "<Figure size 432x288 with 1 Axes>"
            ]
          },
          "metadata": {
            "tags": []
          }
        }
      ]
    },
    {
      "cell_type": "code",
      "metadata": {
        "id": "6vRxaZMMT7fC",
        "colab_type": "code",
        "outputId": "9d3fa26d-f17f-484f-cb03-e00e2b5fa2a2",
        "colab": {
          "base_uri": "https://localhost:8080/",
          "height": 234
        }
      },
      "source": [
        "# getting full sentences from the dataset\n",
        "fullSent = df.loc[df.groupby('SentenceId')['PhraseId'].idxmin()]\n",
        "\n",
        "fullSent.head()"
      ],
      "execution_count": 0,
      "outputs": [
        {
          "output_type": "execute_result",
          "data": {
            "text/html": [
              "<div>\n",
              "<style scoped>\n",
              "    .dataframe tbody tr th:only-of-type {\n",
              "        vertical-align: middle;\n",
              "    }\n",
              "\n",
              "    .dataframe tbody tr th {\n",
              "        vertical-align: top;\n",
              "    }\n",
              "\n",
              "    .dataframe thead th {\n",
              "        text-align: right;\n",
              "    }\n",
              "</style>\n",
              "<table border=\"1\" class=\"dataframe\">\n",
              "  <thead>\n",
              "    <tr style=\"text-align: right;\">\n",
              "      <th></th>\n",
              "      <th>PhraseId</th>\n",
              "      <th>SentenceId</th>\n",
              "      <th>Phrase</th>\n",
              "      <th>Sentiment</th>\n",
              "    </tr>\n",
              "  </thead>\n",
              "  <tbody>\n",
              "    <tr>\n",
              "      <th>0</th>\n",
              "      <td>1</td>\n",
              "      <td>1</td>\n",
              "      <td>A series of escapades demonstrating the adage that what is good for the goose is also good for the gander , some of which occasionally amuses but none of which amounts to much of a story .</td>\n",
              "      <td>1</td>\n",
              "    </tr>\n",
              "    <tr>\n",
              "      <th>63</th>\n",
              "      <td>64</td>\n",
              "      <td>2</td>\n",
              "      <td>This quiet , introspective and entertaining independent is worth seeking .</td>\n",
              "      <td>4</td>\n",
              "    </tr>\n",
              "    <tr>\n",
              "      <th>81</th>\n",
              "      <td>82</td>\n",
              "      <td>3</td>\n",
              "      <td>Even fans of Ismail Merchant 's work , I suspect , would have a hard time sitting through this one .</td>\n",
              "      <td>1</td>\n",
              "    </tr>\n",
              "    <tr>\n",
              "      <th>116</th>\n",
              "      <td>117</td>\n",
              "      <td>4</td>\n",
              "      <td>A positively thrilling combination of ethnography and all the intrigue , betrayal , deceit and murder of a Shakespearean tragedy or a juicy soap opera .</td>\n",
              "      <td>3</td>\n",
              "    </tr>\n",
              "    <tr>\n",
              "      <th>156</th>\n",
              "      <td>157</td>\n",
              "      <td>5</td>\n",
              "      <td>Aggressive self-glorification and a manipulative whitewash .</td>\n",
              "      <td>1</td>\n",
              "    </tr>\n",
              "  </tbody>\n",
              "</table>\n",
              "</div>"
            ],
            "text/plain": [
              "     PhraseId  ...  Sentiment\n",
              "0           1  ...          1\n",
              "63         64  ...          4\n",
              "81         82  ...          1\n",
              "116       117  ...          3\n",
              "156       157  ...          1\n",
              "\n",
              "[5 rows x 4 columns]"
            ]
          },
          "metadata": {
            "tags": []
          },
          "execution_count": 53
        }
      ]
    },
    {
      "cell_type": "code",
      "metadata": {
        "id": "Vmg1mD-idPCz",
        "colab_type": "code",
        "outputId": "4fd28ef7-582a-4f00-ad0a-f09b3e851611",
        "colab": {
          "base_uri": "https://localhost:8080/",
          "height": 479
        }
      },
      "source": [
        "first_df = st_df = df.groupby('SentenceId' , as_index = False).first()\n",
        "first_df"
      ],
      "execution_count": 0,
      "outputs": [
        {
          "output_type": "execute_result",
          "data": {
            "text/html": [
              "<div>\n",
              "<style scoped>\n",
              "    .dataframe tbody tr th:only-of-type {\n",
              "        vertical-align: middle;\n",
              "    }\n",
              "\n",
              "    .dataframe tbody tr th {\n",
              "        vertical-align: top;\n",
              "    }\n",
              "\n",
              "    .dataframe thead th {\n",
              "        text-align: right;\n",
              "    }\n",
              "</style>\n",
              "<table border=\"1\" class=\"dataframe\">\n",
              "  <thead>\n",
              "    <tr style=\"text-align: right;\">\n",
              "      <th></th>\n",
              "      <th>SentenceId</th>\n",
              "      <th>PhraseId</th>\n",
              "      <th>Phrase</th>\n",
              "      <th>Sentiment</th>\n",
              "    </tr>\n",
              "  </thead>\n",
              "  <tbody>\n",
              "    <tr>\n",
              "      <th>0</th>\n",
              "      <td>1</td>\n",
              "      <td>1</td>\n",
              "      <td>A series of escapades demonstrating the adage that what is good for the goose is also good for the gander , some of which occasionally amuses but none of which amounts to much of a story .</td>\n",
              "      <td>1</td>\n",
              "    </tr>\n",
              "    <tr>\n",
              "      <th>1</th>\n",
              "      <td>2</td>\n",
              "      <td>64</td>\n",
              "      <td>This quiet , introspective and entertaining independent is worth seeking .</td>\n",
              "      <td>4</td>\n",
              "    </tr>\n",
              "    <tr>\n",
              "      <th>2</th>\n",
              "      <td>3</td>\n",
              "      <td>82</td>\n",
              "      <td>Even fans of Ismail Merchant 's work , I suspect , would have a hard time sitting through this one .</td>\n",
              "      <td>1</td>\n",
              "    </tr>\n",
              "    <tr>\n",
              "      <th>3</th>\n",
              "      <td>4</td>\n",
              "      <td>117</td>\n",
              "      <td>A positively thrilling combination of ethnography and all the intrigue , betrayal , deceit and murder of a Shakespearean tragedy or a juicy soap opera .</td>\n",
              "      <td>3</td>\n",
              "    </tr>\n",
              "    <tr>\n",
              "      <th>4</th>\n",
              "      <td>5</td>\n",
              "      <td>157</td>\n",
              "      <td>Aggressive self-glorification and a manipulative whitewash .</td>\n",
              "      <td>1</td>\n",
              "    </tr>\n",
              "    <tr>\n",
              "      <th>...</th>\n",
              "      <td>...</td>\n",
              "      <td>...</td>\n",
              "      <td>...</td>\n",
              "      <td>...</td>\n",
              "    </tr>\n",
              "    <tr>\n",
              "      <th>8524</th>\n",
              "      <td>8540</td>\n",
              "      <td>155985</td>\n",
              "      <td>... either you 're willing to go with this claustrophobic concept or you 're not .</td>\n",
              "      <td>2</td>\n",
              "    </tr>\n",
              "    <tr>\n",
              "      <th>8525</th>\n",
              "      <td>8541</td>\n",
              "      <td>155998</td>\n",
              "      <td>Despite these annoyances , the capable Clayburgh and Tambor really do a great job of anchoring the characters in the emotional realities of middle age .</td>\n",
              "      <td>2</td>\n",
              "    </tr>\n",
              "    <tr>\n",
              "      <th>8526</th>\n",
              "      <td>8542</td>\n",
              "      <td>156022</td>\n",
              "      <td>-LRB- Tries -RRB- to parody a genre that 's already a joke in the United States .</td>\n",
              "      <td>1</td>\n",
              "    </tr>\n",
              "    <tr>\n",
              "      <th>8527</th>\n",
              "      <td>8543</td>\n",
              "      <td>156032</td>\n",
              "      <td>The movie 's downfall is to substitute plot for personality .</td>\n",
              "      <td>1</td>\n",
              "    </tr>\n",
              "    <tr>\n",
              "      <th>8528</th>\n",
              "      <td>8544</td>\n",
              "      <td>156040</td>\n",
              "      <td>The film is darkly atmospheric , with Herrmann quietly suggesting the sadness and obsession beneath Hearst 's forced avuncular chortles .</td>\n",
              "      <td>2</td>\n",
              "    </tr>\n",
              "  </tbody>\n",
              "</table>\n",
              "<p>8529 rows × 4 columns</p>\n",
              "</div>"
            ],
            "text/plain": [
              "      SentenceId  ...  Sentiment\n",
              "0              1  ...          1\n",
              "1              2  ...          4\n",
              "2              3  ...          1\n",
              "3              4  ...          3\n",
              "4              5  ...          1\n",
              "...          ...  ...        ...\n",
              "8524        8540  ...          2\n",
              "8525        8541  ...          2\n",
              "8526        8542  ...          1\n",
              "8527        8543  ...          1\n",
              "8528        8544  ...          2\n",
              "\n",
              "[8529 rows x 4 columns]"
            ]
          },
          "metadata": {
            "tags": []
          },
          "execution_count": 54
        }
      ]
    },
    {
      "cell_type": "code",
      "metadata": {
        "id": "RLby69S3UCbk",
        "colab_type": "code",
        "outputId": "3e112e5a-8c2e-4cdf-8bc3-f7c7d7d97f6d",
        "colab": {
          "base_uri": "https://localhost:8080/",
          "height": 502
        }
      },
      "source": [
        "#Depicting the bar plot of most data per sentiment\n",
        "distance = df.groupby([\"Sentiment\"]).size()\n",
        "distance = distance / distance.sum()\n",
        "fig, ax = plt.subplots(figsize=(12,8))\n",
        "sns.barplot(distance.keys(), distance.values);\n",
        "fig.savefig('before.png')"
      ],
      "execution_count": 0,
      "outputs": [
        {
          "output_type": "display_data",
          "data": {
            "image/png": "[encoded data removed]",
            "text/plain": [
              "<Figure size 864x576 with 1 Axes>"
            ]
          },
          "metadata": {
            "tags": []
          }
        }
      ]
    },
    {
      "cell_type": "code",
      "metadata": {
        "id": "4aKajSpMdU64",
        "colab_type": "code",
        "outputId": "a5f75bbf-7f72-4ea8-a25e-7242c4a94f30",
        "colab": {
          "base_uri": "https://localhost:8080/",
          "height": 502
        }
      },
      "source": [
        "#depiction of full sentences per sentiments \n",
        "distance = first_df.groupby([\"Sentiment\"]).size()\n",
        "distance = distance / distance.sum()\n",
        "fig, ax = plt.subplots(figsize=(12,8))\n",
        "sns.barplot(distance.keys(), distance.values);\n",
        "fig.savefig('AfterGraph.png')"
      ],
      "execution_count": 0,
      "outputs": [
        {
          "output_type": "display_data",
          "data": {
            "image/png": "[encoded data removed]",
            "text/plain": [
              "<Figure size 864x576 with 1 Axes>"
            ]
          },
          "metadata": {
            "tags": []
          }
        }
      ]
    },
    {
      "cell_type": "code",
      "metadata": {
        "id": "8w5RiRULUJTw",
        "colab_type": "code",
        "outputId": "e4ee9ecb-4bf0-4d27-d999-e54c76f7bebc",
        "colab": {
          "base_uri": "https://localhost:8080/",
          "height": 198
        }
      },
      "source": [
        "# Start with one review:\n",
        "text = df.Phrase[0]\n",
        "\n",
        "# Create and generate a word cloud image:\n",
        "wordcloud = WordCloud().generate(text)\n",
        "\n",
        "# Display the generated image:\n",
        "plt.imshow(wordcloud, interpolation='bilinear')\n",
        "plt.axis(\"off\")\n",
        "plt.show()"
      ],
      "execution_count": 0,
      "outputs": [
        {
          "output_type": "display_data",
          "data": {
            "image/png": "[encoded data removed]",
            "text/plain": [
              "<Figure size 432x288 with 1 Axes>"
            ]
          },
          "metadata": {
            "tags": []
          }
        }
      ]
    },
    {
      "cell_type": "code",
      "metadata": {
        "id": "OSIRgVl-UOhd",
        "colab_type": "code",
        "outputId": "3ed6c7b5-8f3c-4729-d05d-baaf0562e55f",
        "colab": {
          "base_uri": "https://localhost:8080/",
          "height": 55
        }
      },
      "source": [
        "#downloading the stop words for english language\n",
        "StopWords = ENGLISH_STOP_WORDS\n",
        "print(StopWords)"
      ],
      "execution_count": 0,
      "outputs": [
        {
          "output_type": "stream",
          "text": [
            "frozenset({'formerly', 'etc', 'hundred', 'because', 'due', 'part', 'twenty', 'in', 'would', 'however', 'neither', 'indeed', 'herein', 'via', 'whereafter', 'seeming', 'sixty', 'from', 'front', 'same', 'others', 'throughout', 'name', 'had', 'even', 'any', 'fire', 'four', 'inc', 'our', 'last', 'being', 'other', 'there', 'hereby', 'mostly', 'their', 'few', 'sometime', 'anyone', 'himself', 'she', 'be', 'for', 'yours', 'you', 'whereby', 'mine', 'those', 'through', 'namely', 'nor', 'often', 'thereafter', 'can', 'by', 'into', 'too', 'us', 'between', 'noone', 'therein', 'thru', 'couldnt', 'been', 'full', 'with', 'un', 'nevertheless', 'after', 'further', 'ie', 'behind', 'found', 'about', 'interest', 'will', 'everywhere', 'meanwhile', 'six', 'should', 'cannot', 'once', 'becomes', 'before', 'across', 'everything', 'so', 'latter', 'up', 'whoever', 'whole', 'former', 'hasnt', 'thus', 'do', 'own', 'not', 'fifteen', 'his', 'yet', 'become', 'also', 'each', 'anyway', 'cry', 'nobody', 'more', 'describe', 'again', 'these', 'whereupon', 'con', 'beside', 'ourselves', 'twelve', 'onto', 'down', 'one', 'below', 'hence', 'herself', 'i', 'put', 'under', 'never', 'still', 'elsewhere', 'enough', 'and', 'least', 'less', 'must', 'upon', 'how', 'itself', 'another', 'seem', 'although', 'forty', 'done', 'made', 'might', 'show', 'fill', 'per', 'out', 'serious', 'therefore', 'he', 'toward', 'none', 'thick', 'along', 'seems', 'eg', 'my', 'may', 'thence', 'next', 'ever', 'always', 'that', 'rather', 'third', 'me', 'some', 'where', 'perhaps', 'see', 'than', 'to', 'until', 'latterly', 'moreover', 'eight', 'move', 'very', 'has', 'off', 'otherwise', 'three', 'they', 'much', 'together', 'within', 'every', 'find', 'during', 'though', 'well', 'something', 'themselves', 'please', 'over', 'empty', 'on', 'ours', 'myself', 'her', 'its', 'someone', 'thin', 'whether', 'him', 'nine', 'becoming', 'eleven', 'everyone', 'the', 'both', 'keep', 'two', 'whose', 'whom', 'seemed', 'thereby', 'else', 'while', 'yourself', 'five', 'hereafter', 're', 'could', 'system', 'hereupon', 'here', 'is', 'many', 'bill', 'this', 'were', 'yourselves', 'but', 'among', 'now', 'nowhere', 'somehow', 'which', 'whither', 'without', 'towards', 'against', 'whenever', 'almost', 'an', 'as', 'was', 'what', 'sincere', 'when', 'give', 'anywhere', 'who', 'all', 'anyhow', 'around', 'sometimes', 'ten', 'if', 'whence', 'afterwards', 'call', 'only', 'cant', 'then', 'of', 'why', 'am', 'thereupon', 'go', 'are', 'already', 'bottom', 'at', 'we', 'since', 'whereas', 'nothing', 'wherever', 'became', 'wherein', 'your', 'besides', 'most', 'anything', 'ltd', 'except', 'amoungst', 'take', 'somewhere', 'above', 'or', 'such', 'it', 'amount', 'either', 'co', 'several', 'first', 'top', 'whatever', 'de', 'them', 'have', 'fifty', 'beyond', 'mill', 'a', 'amongst', 'no', 'side', 'get', 'hers', 'alone', 'detail', 'beforehand', 'back'})\n"
          ],
          "name": "stdout"
        }
      ]
    },
    {
      "cell_type": "code",
      "metadata": {
        "id": "RTHN8ah_UU7n",
        "colab_type": "code",
        "outputId": "3dc6e0c4-c9b0-434a-c4f1-91a6c7cd3614",
        "colab": {
          "base_uri": "https://localhost:8080/",
          "height": 35
        }
      },
      "source": [
        "text = \" \".join(review for review in df.Phrase)\n",
        "print (\"There are {} words in the combination of all review.\".format(len(text)))"
      ],
      "execution_count": 0,
      "outputs": [
        {
          "output_type": "stream",
          "text": [
            "There are 6432359 words in the combination of all review.\n"
          ],
          "name": "stdout"
        }
      ]
    },
    {
      "cell_type": "code",
      "metadata": {
        "id": "XTNjTIfBUcXK",
        "colab_type": "code",
        "outputId": "793060e5-0102-476c-9e05-9741577e3e8b",
        "colab": {
          "base_uri": "https://localhost:8080/",
          "height": 215
        }
      },
      "source": [
        "# Create stopword list:\n",
        "stopwords = set(StopWords)\n",
        "stopwords.update([\"drink\", \"now\", \"wine\", \"flavor\", \"flavors\"])\n",
        "\n",
        "# Generating a word cloud image\n",
        "wordcloud = WordCloud(stopwords=stopwords, background_color=\"white\").generate(text)\n",
        "\n",
        "# Display the generated image:\n",
        "# the matplotlib way:\n",
        "plt.imshow(wordcloud, interpolation='bilinear')\n",
        "plt.axis(\"off\")\n",
        "plt.show()\n",
        "plt.savefig('wordcloud.png')"
      ],
      "execution_count": 0,
      "outputs": [
        {
          "output_type": "display_data",
          "data": {
            "image/png": "[encoded data removed]",
            "text/plain": [
              "<Figure size 432x288 with 1 Axes>"
            ]
          },
          "metadata": {
            "tags": []
          }
        },
        {
          "output_type": "display_data",
          "data": {
            "text/plain": [
              "<Figure size 432x288 with 0 Axes>"
            ]
          },
          "metadata": {
            "tags": []
          }
        }
      ]
    },
    {
      "cell_type": "code",
      "metadata": {
        "id": "cflfIOH3UfRN",
        "colab_type": "code",
        "outputId": "0acf5a6c-ddce-4174-f9f0-b356496ac132",
        "colab": {
          "base_uri": "https://localhost:8080/",
          "height": 266
        }
      },
      "source": [
        "#Performing Bag of word for the dataset\n",
        "BOW_Vectorizer = CountVectorizer(strip_accents='unicode',\n",
        "                                 stop_words=StopWords,\n",
        "                                 ngram_range=(1,3),\n",
        "                                 analyzer='word',\n",
        "                                 min_df=5,\n",
        "                                 max_df=0.5)\n",
        "\n",
        "BOW_Vectorizer.fit(list(fullSent['Phrase']))"
      ],
      "execution_count": 0,
      "outputs": [
        {
          "output_type": "execute_result",
          "data": {
            "text/plain": [
              "CountVectorizer(analyzer='word', binary=False, decode_error='strict',\n",
              "                dtype=<class 'numpy.int64'>, encoding='utf-8', input='content',\n",
              "                lowercase=True, max_df=0.5, max_features=None, min_df=5,\n",
              "                ngram_range=(1, 3), preprocessor=None,\n",
              "                stop_words=frozenset({'a', 'about', 'above', 'across', 'after',\n",
              "                                      'afterwards', 'again', 'against', 'all',\n",
              "                                      'almost', 'alone', 'along', 'already',\n",
              "                                      'also', 'although', 'always', 'am',\n",
              "                                      'among', 'amongst', 'amoungst', 'amount',\n",
              "                                      'an', 'and', 'another', 'any', 'anyhow',\n",
              "                                      'anyone', 'anything', 'anyway',\n",
              "                                      'anywhere', ...}),\n",
              "                strip_accents='unicode', token_pattern='(?u)\\\\b\\\\w\\\\w+\\\\b',\n",
              "                tokenizer=None, vocabulary=None)"
            ]
          },
          "metadata": {
            "tags": []
          },
          "execution_count": 61
        }
      ]
    },
    {
      "cell_type": "code",
      "metadata": {
        "id": "0Omu8gAnUg-B",
        "colab_type": "code",
        "outputId": "dd72a436-0a6e-40c0-f879-1ffbc9a87439",
        "colab": {
          "base_uri": "https://localhost:8080/",
          "height": 301
        }
      },
      "source": [
        "#create tfidf vectorizer \n",
        "tfidf_vectorizer = TfidfVectorizer(min_df=5,\n",
        "                                 max_df=5,\n",
        "                                  analyzer='word',\n",
        "                                  strip_accents='unicode',\n",
        "                                  ngram_range=(1,3),\n",
        "                                  sublinear_tf=True,\n",
        "                                  smooth_idf=True,\n",
        "                                  use_idf=True,\n",
        "                                  stop_words=StopWords)\n",
        "\n",
        "tfidf_vectorizer.fit(list(fullSent['Phrase']))"
      ],
      "execution_count": 0,
      "outputs": [
        {
          "output_type": "execute_result",
          "data": {
            "text/plain": [
              "TfidfVectorizer(analyzer='word', binary=False, decode_error='strict',\n",
              "                dtype=<class 'numpy.float64'>, encoding='utf-8',\n",
              "                input='content', lowercase=True, max_df=5, max_features=None,\n",
              "                min_df=5, ngram_range=(1, 3), norm='l2', preprocessor=None,\n",
              "                smooth_idf=True,\n",
              "                stop_words=frozenset({'a', 'about', 'above', 'across', 'after',\n",
              "                                      'afterwards', 'again', 'against', 'all',\n",
              "                                      'almost', 'alone', 'along', 'already',\n",
              "                                      'also', 'although', 'always', 'am',\n",
              "                                      'among', 'amongst', 'amoungst', 'amount',\n",
              "                                      'an', 'and', 'another', 'any', 'anyhow',\n",
              "                                      'anyone', 'anything', 'anyway',\n",
              "                                      'anywhere', ...}),\n",
              "                strip_accents='unicode', sublinear_tf=True,\n",
              "                token_pattern='(?u)\\\\b\\\\w\\\\w+\\\\b', tokenizer=None, use_idf=True,\n",
              "                vocabulary=None)"
            ]
          },
          "metadata": {
            "tags": []
          },
          "execution_count": 62
        }
      ]
    },
    {
      "cell_type": "code",
      "metadata": {
        "id": "ChpaoEiJUlRC",
        "colab_type": "code",
        "outputId": "a6df6d83-5ac6-4bc8-bc18-ef78b084967b",
        "colab": {
          "base_uri": "https://localhost:8080/",
          "height": 72
        }
      },
      "source": [
        "#tfid\n",
        "#build train dataset\n",
        "phrase = fullSent['Phrase']\n",
        "sentiment = fullSent['Sentiment']\n",
        "phrase[0], sentiment[0]"
      ],
      "execution_count": 0,
      "outputs": [
        {
          "output_type": "execute_result",
          "data": {
            "text/plain": [
              "('A series of escapades demonstrating the adage that what is good for the goose is also good for the gander , some of which occasionally amuses but none of which amounts to much of a story .',\n",
              " 1)"
            ]
          },
          "metadata": {
            "tags": []
          },
          "execution_count": 63
        }
      ]
    },
    {
      "cell_type": "code",
      "metadata": {
        "id": "TJk5ApA9dqG2",
        "colab_type": "code",
        "colab": {}
      },
      "source": [
        "#performing the cleansing operation on the dataset using lemmatizer from WordNetLemmatizer and SnowBallStemmer\n",
        "from nltk.tokenize import word_tokenize\n",
        "from nltk import FreqDist\n",
        "from nltk.stem import SnowballStemmer,WordNetLemmatizer\n",
        "stemmer=SnowballStemmer('english')\n",
        "lemma=WordNetLemmatizer()\n",
        "from string import punctuation\n",
        "import re"
      ],
      "execution_count": 0,
      "outputs": []
    },
    {
      "cell_type": "code",
      "metadata": {
        "id": "YbAmxO3Pdp70",
        "colab_type": "code",
        "colab": {}
      },
      "source": [
        "def phrase_clean(review_col):\n",
        "    review_corpus=[]\n",
        "    for i in range(0,len(review_col)):\n",
        "        review=str(review_col[i])\n",
        "        review=re.sub('[^a-zA-Z]',' ',review)\n",
        "        \n",
        "        review=[lemma.lemmatize(w) for w in word_tokenize(str(review).lower())]\n",
        "        review=' '.join(review)\n",
        "        review_corpus.append(review)\n",
        "    return review_corpus"
      ],
      "execution_count": 0,
      "outputs": []
    },
    {
      "cell_type": "code",
      "metadata": {
        "id": "-NaBunB2dzmm",
        "colab_type": "code",
        "outputId": "a547660b-38c1-405e-c7b2-3def95afe9a9",
        "colab": {
          "base_uri": "https://localhost:8080/",
          "height": 88
        }
      },
      "source": [
        "import nltk\n",
        "nltk.download('punkt')\n",
        "nltk.download('wordnet')\n",
        "df['phrase_clean']=phrase_clean(df.Phrase.values)"
      ],
      "execution_count": 0,
      "outputs": [
        {
          "output_type": "stream",
          "text": [
            "[nltk_data] Downloading package punkt to /root/nltk_data...\n",
            "[nltk_data]   Package punkt is already up-to-date!\n",
            "[nltk_data] Downloading package wordnet to /root/nltk_data...\n",
            "[nltk_data]   Package wordnet is already up-to-date!\n"
          ],
          "name": "stdout"
        }
      ]
    },
    {
      "cell_type": "code",
      "metadata": {
        "id": "4-TJ6PuXeGEs",
        "colab_type": "code",
        "outputId": "ca94440d-d2b0-4c9f-901d-d4b15901330c",
        "colab": {
          "base_uri": "https://localhost:8080/",
          "height": 268
        }
      },
      "source": [
        "df.head()"
      ],
      "execution_count": 0,
      "outputs": [
        {
          "output_type": "execute_result",
          "data": {
            "text/html": [
              "<div>\n",
              "<style scoped>\n",
              "    .dataframe tbody tr th:only-of-type {\n",
              "        vertical-align: middle;\n",
              "    }\n",
              "\n",
              "    .dataframe tbody tr th {\n",
              "        vertical-align: top;\n",
              "    }\n",
              "\n",
              "    .dataframe thead th {\n",
              "        text-align: right;\n",
              "    }\n",
              "</style>\n",
              "<table border=\"1\" class=\"dataframe\">\n",
              "  <thead>\n",
              "    <tr style=\"text-align: right;\">\n",
              "      <th></th>\n",
              "      <th>PhraseId</th>\n",
              "      <th>SentenceId</th>\n",
              "      <th>Phrase</th>\n",
              "      <th>Sentiment</th>\n",
              "      <th>phrase_clean</th>\n",
              "    </tr>\n",
              "  </thead>\n",
              "  <tbody>\n",
              "    <tr>\n",
              "      <th>0</th>\n",
              "      <td>1</td>\n",
              "      <td>1</td>\n",
              "      <td>A series of escapades demonstrating the adage that what is good for the goose is also good for the gander , some of which occasionally amuses but none of which amounts to much of a story .</td>\n",
              "      <td>1</td>\n",
              "      <td>a series of escapade demonstrating the adage that what is good for the goose is also good for the gander some of which occasionally amuses but none of which amount to much of a story</td>\n",
              "    </tr>\n",
              "    <tr>\n",
              "      <th>1</th>\n",
              "      <td>2</td>\n",
              "      <td>1</td>\n",
              "      <td>A series of escapades demonstrating the adage that what is good for the goose</td>\n",
              "      <td>2</td>\n",
              "      <td>a series of escapade demonstrating the adage that what is good for the goose</td>\n",
              "    </tr>\n",
              "    <tr>\n",
              "      <th>2</th>\n",
              "      <td>3</td>\n",
              "      <td>1</td>\n",
              "      <td>A series</td>\n",
              "      <td>2</td>\n",
              "      <td>a series</td>\n",
              "    </tr>\n",
              "    <tr>\n",
              "      <th>3</th>\n",
              "      <td>4</td>\n",
              "      <td>1</td>\n",
              "      <td>A</td>\n",
              "      <td>2</td>\n",
              "      <td>a</td>\n",
              "    </tr>\n",
              "    <tr>\n",
              "      <th>4</th>\n",
              "      <td>5</td>\n",
              "      <td>1</td>\n",
              "      <td>series</td>\n",
              "      <td>2</td>\n",
              "      <td>series</td>\n",
              "    </tr>\n",
              "  </tbody>\n",
              "</table>\n",
              "</div>"
            ],
            "text/plain": [
              "   PhraseId  ...                                                                                                                                                                            phrase_clean\n",
              "0         1  ...  a series of escapade demonstrating the adage that what is good for the goose is also good for the gander some of which occasionally amuses but none of which amount to much of a story\n",
              "1         2  ...                                                                                                            a series of escapade demonstrating the adage that what is good for the goose\n",
              "2         3  ...                                                                                                                                                                                a series\n",
              "3         4  ...                                                                                                                                                                                       a\n",
              "4         5  ...                                                                                                                                                                                  series\n",
              "\n",
              "[5 rows x 5 columns]"
            ]
          },
          "metadata": {
            "tags": []
          },
          "execution_count": 67
        }
      ]
    },
    {
      "cell_type": "code",
      "metadata": {
        "id": "0nMvan9co4w0",
        "colab_type": "code",
        "colab": {}
      },
      "source": [
        "from sklearn.utils import resample\n",
        "train_2 = df[df['Sentiment']==2]\n",
        "train_1 = df[df['Sentiment']==1]\n",
        "train_3 = df[df['Sentiment']==3]\n",
        "train_4 = df[df['Sentiment']==4]\n",
        "train_5 = df[df['Sentiment']==0]\n",
        "train_2_sample = resample(train_2,replace=True,n_samples=75000,random_state=2003)\n",
        "train_1_sample = resample(train_1,replace=True,n_samples=75000,random_state=2003)\n",
        "train_3_sample = resample(train_3,replace=True,n_samples=75000,random_state=2003)\n",
        "train_4_sample = resample(train_4,replace=True,n_samples=75000,random_state=2003)\n",
        "train_5_sample = resample(train_5,replace=True,n_samples=75000,random_state=2003)\n",
        "\n",
        "df_upsampled = pd.concat([train_2, train_1_sample,train_3_sample,train_4_sample,train_5_sample])"
      ],
      "execution_count": 0,
      "outputs": []
    },
    {
      "cell_type": "code",
      "metadata": {
        "id": "hsbJFROMebjo",
        "colab_type": "code",
        "outputId": "943dc54e-a782-4324-aa59-24ddf28e099c",
        "colab": {
          "base_uri": "https://localhost:8080/",
          "height": 234
        }
      },
      "source": [
        "df_upsampled.head()"
      ],
      "execution_count": 0,
      "outputs": [
        {
          "output_type": "execute_result",
          "data": {
            "text/html": [
              "<div>\n",
              "<style scoped>\n",
              "    .dataframe tbody tr th:only-of-type {\n",
              "        vertical-align: middle;\n",
              "    }\n",
              "\n",
              "    .dataframe tbody tr th {\n",
              "        vertical-align: top;\n",
              "    }\n",
              "\n",
              "    .dataframe thead th {\n",
              "        text-align: right;\n",
              "    }\n",
              "</style>\n",
              "<table border=\"1\" class=\"dataframe\">\n",
              "  <thead>\n",
              "    <tr style=\"text-align: right;\">\n",
              "      <th></th>\n",
              "      <th>PhraseId</th>\n",
              "      <th>SentenceId</th>\n",
              "      <th>Phrase</th>\n",
              "      <th>Sentiment</th>\n",
              "      <th>phrase_clean</th>\n",
              "    </tr>\n",
              "  </thead>\n",
              "  <tbody>\n",
              "    <tr>\n",
              "      <th>1</th>\n",
              "      <td>2</td>\n",
              "      <td>1</td>\n",
              "      <td>A series of escapades demonstrating the adage that what is good for the goose</td>\n",
              "      <td>2</td>\n",
              "      <td>a series of escapade demonstrating the adage that what is good for the goose</td>\n",
              "    </tr>\n",
              "    <tr>\n",
              "      <th>2</th>\n",
              "      <td>3</td>\n",
              "      <td>1</td>\n",
              "      <td>A series</td>\n",
              "      <td>2</td>\n",
              "      <td>a series</td>\n",
              "    </tr>\n",
              "    <tr>\n",
              "      <th>3</th>\n",
              "      <td>4</td>\n",
              "      <td>1</td>\n",
              "      <td>A</td>\n",
              "      <td>2</td>\n",
              "      <td>a</td>\n",
              "    </tr>\n",
              "    <tr>\n",
              "      <th>4</th>\n",
              "      <td>5</td>\n",
              "      <td>1</td>\n",
              "      <td>series</td>\n",
              "      <td>2</td>\n",
              "      <td>series</td>\n",
              "    </tr>\n",
              "    <tr>\n",
              "      <th>5</th>\n",
              "      <td>6</td>\n",
              "      <td>1</td>\n",
              "      <td>of escapades demonstrating the adage that what is good for the goose</td>\n",
              "      <td>2</td>\n",
              "      <td>of escapade demonstrating the adage that what is good for the goose</td>\n",
              "    </tr>\n",
              "  </tbody>\n",
              "</table>\n",
              "</div>"
            ],
            "text/plain": [
              "   PhraseId  ...                                                                  phrase_clean\n",
              "1         2  ...  a series of escapade demonstrating the adage that what is good for the goose\n",
              "2         3  ...                                                                      a series\n",
              "3         4  ...                                                                             a\n",
              "4         5  ...                                                                        series\n",
              "5         6  ...           of escapade demonstrating the adage that what is good for the goose\n",
              "\n",
              "[5 rows x 5 columns]"
            ]
          },
          "metadata": {
            "tags": []
          },
          "execution_count": 69
        }
      ]
    },
    {
      "cell_type": "code",
      "metadata": {
        "id": "8gD35Pw1eegr",
        "colab_type": "code",
        "colab": {}
      },
      "source": [
        "\n",
        "import numpy as np\n",
        "import pandas as pd\n",
        "import matplotlib.pyplot as plt\n",
        "import seaborn as sns\n",
        "%matplotlib inline\n",
        "\n",
        "from nltk.tokenize import TweetTokenizer\n",
        "import datetime\n",
        "#import lightgbm as lgb\n",
        "from scipy import stats\n",
        "from scipy.sparse import hstack, csr_matrix\n",
        "from sklearn.model_selection import train_test_split, cross_val_score\n",
        "#from wordcloud import WordCloud\n",
        "from collections import Counter\n",
        "from nltk.corpus import stopwords\n",
        "from nltk.util import ngrams\n",
        "from sklearn.feature_extraction.text import TfidfVectorizer\n",
        "from sklearn.preprocessing import StandardScaler\n",
        "from sklearn.linear_model import LogisticRegression\n",
        "from sklearn.naive_bayes import MultinomialNB\n",
        "from sklearn.svm import LinearSVC\n",
        "from sklearn.multiclass import OneVsRestClassifier\n",
        "\n",
        "#data processing \n",
        "\n",
        "pd.set_option('max_colwidth',400)\n",
        "text = ' '.join(df_upsampled.loc[df_upsampled.Sentiment == 4, 'Phrase'].values)\n",
        "text_trigrams = [i for i in ngrams(text.split(), 3)]"
      ],
      "execution_count": 0,
      "outputs": []
    },
    {
      "cell_type": "code",
      "metadata": {
        "id": "z1F6Z7BYe1dV",
        "colab_type": "code",
        "outputId": "16d5b9c5-23f5-4556-802b-28efc8ed6611",
        "colab": {
          "base_uri": "https://localhost:8080/",
          "height": 550
        }
      },
      "source": [
        "Counter(text_trigrams).most_common(30)"
      ],
      "execution_count": 0,
      "outputs": [
        {
          "output_type": "execute_result",
          "data": {
            "text/plain": [
              "[(('one', 'of', 'the'), 1554),\n",
              " (('of', 'the', 'year'), 833),\n",
              " (('of', 'the', 'best'), 658),\n",
              " (('of', 'the', 'most'), 552),\n",
              " (('is', 'one', 'of'), 394),\n",
              " (('One', 'of', 'the'), 367),\n",
              " ((',', 'and', 'the'), 353),\n",
              " (('it', \"'s\", 'a'), 302),\n",
              " (('the', 'film', \"'s\"), 301),\n",
              " (('the', 'year', \"'s\"), 290),\n",
              " (('the', 'edge', 'of'), 283),\n",
              " (('of', 'your', 'seat'), 279),\n",
              " (('the', 'kind', 'of'), 277),\n",
              " (('.', 'is', 'a'), 274),\n",
              " (('It', \"'s\", 'a'), 273),\n",
              " ((',', 'the', 'film'), 269),\n",
              " (('a', 'movie', 'that'), 268),\n",
              " (('the', 'film', 'is'), 265),\n",
              " (('film', 'that', 'is'), 243),\n",
              " (('edge', 'of', 'your'), 243),\n",
              " (('as', 'one', 'of'), 243),\n",
              " ((',', 'this', 'is'), 240),\n",
              " ((',', 'it', \"'s\"), 214),\n",
              " (('a', 'film', 'that'), 207),\n",
              " (('as', 'well', 'as'), 204),\n",
              " (('some', 'of', 'the'), 196),\n",
              " (('of', 'the', 'film'), 195),\n",
              " ((',', 'funny', ','), 192),\n",
              " (('is', 'funny', ','), 192),\n",
              " (('in', 'its', 'own'), 189)]"
            ]
          },
          "metadata": {
            "tags": []
          },
          "execution_count": 71
        }
      ]
    },
    {
      "cell_type": "code",
      "metadata": {
        "id": "vnQv1859e-XQ",
        "colab_type": "code",
        "colab": {}
      },
      "source": [
        "tokenizer = TweetTokenizer()"
      ],
      "execution_count": 0,
      "outputs": []
    },
    {
      "cell_type": "code",
      "metadata": {
        "id": "VtaupGUQfCaA",
        "colab_type": "code",
        "colab": {}
      },
      "source": [
        "\n",
        "vectorizer = TfidfVectorizer(ngram_range=(1, 2), tokenizer=tokenizer.tokenize)\n",
        "full_text = list(df_upsampled['phrase_clean'].values)\n",
        "vectorizer.fit(full_text)\n",
        "df_upsampled_vectorized = vectorizer.transform(df_upsampled['phrase_clean'])\n"
      ],
      "execution_count": 0,
      "outputs": []
    },
    {
      "cell_type": "code",
      "metadata": {
        "id": "lCrX4x4BffBe",
        "colab_type": "code",
        "colab": {}
      },
      "source": [
        "\n",
        "y = df_upsampled['Sentiment']"
      ],
      "execution_count": 0,
      "outputs": []
    },
    {
      "cell_type": "code",
      "metadata": {
        "id": "fRg7PUiThzDA",
        "colab_type": "code",
        "outputId": "bf6d5a3a-6f68-48b8-bb3c-89e5b36c6142",
        "colab": {
          "base_uri": "https://localhost:8080/",
          "height": 141
        }
      },
      "source": [
        "#to perfrom the vectorisation and bring the data in vector form\n",
        "from keras.utils import to_categorical\n",
        "X = df_upsampled['phrase_clean']\n",
        "#Y = train['Sentiment']\n",
        "Y = to_categorical(df_upsampled['Sentiment'].values)\n",
        "print(Y)"
      ],
      "execution_count": 0,
      "outputs": [
        {
          "output_type": "stream",
          "text": [
            "[[0. 0. 1. 0. 0.]\n",
            " [0. 0. 1. 0. 0.]\n",
            " [0. 0. 1. 0. 0.]\n",
            " ...\n",
            " [1. 0. 0. 0. 0.]\n",
            " [1. 0. 0. 0. 0.]\n",
            " [1. 0. 0. 0. 0.]]\n"
          ],
          "name": "stdout"
        }
      ]
    },
    {
      "cell_type": "code",
      "metadata": {
        "id": "Xbdc4nP2h5ES",
        "colab_type": "code",
        "colab": {}
      },
      "source": [
        "\n",
        "from sklearn.model_selection import train_test_split\n",
        "X_train, X_val, Y_train, Y_val = train_test_split(X, Y, test_size=0.3, random_state=2003)"
      ],
      "execution_count": 0,
      "outputs": []
    },
    {
      "cell_type": "code",
      "metadata": {
        "id": "3XjU6-bmiLtj",
        "colab_type": "code",
        "outputId": "26e827db-4da3-4972-ac2f-466a7773bc70",
        "colab": {
          "base_uri": "https://localhost:8080/",
          "height": 52
        }
      },
      "source": [
        "print(X_train.shape,Y_train.shape)\n",
        "print(X_val.shape,Y_val.shape)"
      ],
      "execution_count": 0,
      "outputs": [
        {
          "output_type": "stream",
          "text": [
            "(265707,) (265707, 5)\n",
            "(113875,) (113875, 5)\n"
          ],
          "name": "stdout"
        }
      ]
    },
    {
      "cell_type": "code",
      "metadata": {
        "id": "1tIzGF26iPUq",
        "colab_type": "code",
        "colab": {}
      },
      "source": [
        "from keras.preprocessing.text import Tokenizer\n",
        "from keras.preprocessing.sequence import pad_sequences\n",
        "from keras.utils import to_categorical"
      ],
      "execution_count": 0,
      "outputs": []
    },
    {
      "cell_type": "code",
      "metadata": {
        "id": "wuyDzFPDiSbF",
        "colab_type": "code",
        "outputId": "74d71903-fa4c-42d4-fad7-b5a0609be4d4",
        "colab": {
          "base_uri": "https://localhost:8080/",
          "height": 35
        }
      },
      "source": [
        "#joining the different tokens and finding total number of words\n",
        "all_words=' '.join(X_train)\n",
        "all_words=word_tokenize(all_words)\n",
        "\n",
        "dist=FreqDist(all_words)\n",
        "\n",
        "num_unique_word=len(dist)\n",
        "num_unique_word\n",
        "#X_train.head()"
      ],
      "execution_count": 0,
      "outputs": [
        {
          "output_type": "execute_result",
          "data": {
            "text/plain": [
              "13731"
            ]
          },
          "metadata": {
            "tags": []
          },
          "execution_count": 79
        }
      ]
    },
    {
      "cell_type": "code",
      "metadata": {
        "id": "lp92ubJXiagE",
        "colab_type": "code",
        "outputId": "bd586795-4e3c-4d92-ad3e-5b9181a33029",
        "colab": {
          "base_uri": "https://localhost:8080/",
          "height": 35
        }
      },
      "source": [
        "#finding the number of words for each phrase \n",
        "py_length=[]\n",
        "for text in X_train:\n",
        "    word=word_tokenize(text)\n",
        "  #  print(text)\n",
        "    l=len(word)\n",
        "    py_length.append(l)\n",
        "    \n",
        "MAX_REVIEW_LEN=np.max(py_length)\n",
        "MAX_REVIEW_LEN"
      ],
      "execution_count": 0,
      "outputs": [
        {
          "output_type": "execute_result",
          "data": {
            "text/plain": [
              "48"
            ]
          },
          "metadata": {
            "tags": []
          },
          "execution_count": 80
        }
      ]
    },
    {
      "cell_type": "code",
      "metadata": {
        "id": "Ov8LJSENihv8",
        "colab_type": "code",
        "colab": {}
      },
      "source": [
        "max_features = num_unique_word\n",
        "max_words = MAX_REVIEW_LEN\n",
        "batch_size = 128\n",
        "epochs = 5\n",
        "num_classes=5"
      ],
      "execution_count": 0,
      "outputs": []
    },
    {
      "cell_type": "code",
      "metadata": {
        "id": "-P_LbArhinlw",
        "colab_type": "code",
        "colab": {}
      },
      "source": [
        "#defining the recall, precision and f1 score for the model\n",
        "from keras import backend as K\n",
        "def recall_m(y_true, y_pred):\n",
        "  true_positives = K.sum(K.round(K.clip(y_true * y_pred, 0, 1)))\n",
        "  possible_positives = K.sum(K.round(K.clip(y_true, 0, 1)))\n",
        "  recall = true_positives / (possible_positives + K.epsilon())\n",
        "  return recall\n",
        "\n",
        "def precision_m(y_true, y_pred):\n",
        "  true_positives = K.sum(K.round(K.clip(y_true * y_pred, 0, 1)))\n",
        "  predicted_positives = K.sum(K.round(K.clip(y_true, 0, 1)))\n",
        "  precision = true_positives / (predicted_positives + K.epsilon())\n",
        "  return precision\n",
        "\n",
        "def f1_m(y_true, y_pred):\n",
        "  precision = precision_m(y_true, y_pred)\n",
        "  recall = recall_m(y_true, y_pred)\n",
        "  return 2*((precision*recall)/(precision+recall+K.epsilon()))\n"
      ],
      "execution_count": 0,
      "outputs": []
    },
    {
      "cell_type": "code",
      "metadata": {
        "id": "vS0GJLR5ipBn",
        "colab_type": "code",
        "colab": {}
      },
      "source": [
        "from tensorflow.python.keras.models import Sequential\n",
        "from tensorflow.python.keras.layers import Dense, GRU, Embedding\n",
        "from tensorflow.python.keras.optimizers import Adam\n",
        "from tensorflow.python.keras.preprocessing.text import Tokenizer\n",
        "from tensorflow.python.keras.preprocessing.sequence import pad_sequences"
      ],
      "execution_count": 0,
      "outputs": []
    },
    {
      "cell_type": "code",
      "metadata": {
        "id": "65FFl1gAiukt",
        "colab_type": "code",
        "colab": {}
      },
      "source": [
        "#tokenizing the words\n",
        "tokenizer = Tokenizer(num_words=max_features)\n",
        "tokenizer.fit_on_texts(X_train)\n",
        "X_train = tokenizer.texts_to_sequences(X_train)\n",
        "X_val = tokenizer.texts_to_sequences(X_val)\n",
        "\n",
        "#X_test = tokenizer.texts_to_sequences(X_train)\n",
        "#X_test"
      ],
      "execution_count": 0,
      "outputs": []
    },
    {
      "cell_type": "code",
      "metadata": {
        "id": "jjo5T2zdkHLa",
        "colab_type": "code",
        "colab": {}
      },
      "source": [
        "from keras.preprocessing import sequence,text\n",
        "from keras.preprocessing.text import Tokenizer\n",
        "from keras.models import Sequential\n",
        "from keras.preprocessing.sequence import pad_sequences"
      ],
      "execution_count": 0,
      "outputs": []
    },
    {
      "cell_type": "code",
      "metadata": {
        "id": "kAdyW282dzfY",
        "colab_type": "code",
        "colab": {}
      },
      "source": [
        "#sequence padding for the model\n",
        "from keras.preprocessing import sequence,text\n",
        "from keras.preprocessing.text import Tokenizer\n",
        "from keras.models import Sequential\n",
        "from keras.preprocessing.sequence import pad_sequences\n",
        "X_train = sequence.pad_sequences(X_train, maxlen=max_words)\n",
        "X_val = sequence.pad_sequences(X_val, maxlen=max_words)\n",
        "#X_test = sequence.pad_sequences(X_test, maxlen=max_words)\n",
        "#print(X_train.shape,X_val.shape)\n",
        "#X_test"
      ],
      "execution_count": 0,
      "outputs": []
    },
    {
      "cell_type": "code",
      "metadata": {
        "id": "47s_BCx_kYO1",
        "colab_type": "code",
        "colab": {}
      },
      "source": [
        "from keras.preprocessing import sequence,text\n",
        "from keras.preprocessing.text import Tokenizer\n",
        "from keras.models import Sequential\n",
        "from keras.layers import Dense,Dropout,Embedding,LSTM,Conv1D,GlobalMaxPooling1D,Flatten,MaxPooling1D,GRU,SpatialDropout1D,Bidirectional\n",
        "from keras.callbacks import EarlyStopping\n",
        "from keras.utils import to_categorical\n",
        "from keras.losses import categorical_crossentropy\n",
        "from keras.optimizers import Adam\n",
        "from sklearn.model_selection import train_test_split\n",
        "from sklearn.metrics import accuracy_score,confusion_matrix,classification_report,f1_score\n",
        "import matplotlib.pyplot as plt\n",
        "from keras.layers import Input, Dense, Embedding, Flatten\n",
        "from keras.layers import SpatialDropout1D\n",
        "from keras.layers.convolutional import Conv1D, MaxPooling1D\n",
        "from keras.layers.normalization import BatchNormalization\n",
        "from keras.models import Sequential"
      ],
      "execution_count": 0,
      "outputs": []
    },
    {
      "cell_type": "code",
      "metadata": {
        "id": "8aySHByIkgYc",
        "colab_type": "code",
        "outputId": "1188da91-b298-45d7-dfad-befb3094de65",
        "colab": {
          "base_uri": "https://localhost:8080/",
          "height": 479
        }
      },
      "source": [
        "model2 = Sequential()\n",
        "\n",
        "# Input / Embdedding\n",
        "model2.add(Embedding(max_features, 150, input_length=max_words))\n",
        "\n",
        "# CNN\n",
        "model2.add(SpatialDropout1D(0.2))\n",
        "\n",
        "model2.add(Conv1D(64, kernel_size=3, padding='same', activation='relu'))\n",
        "model2.add(MaxPooling1D(pool_size=2))\n",
        "\n",
        "model2.add(BatchNormalization())\n",
        "model2.add(Conv1D(32, kernel_size=3, padding='same', activation='relu'))\n",
        "model2.add(MaxPooling1D(pool_size=2))\n",
        "\n",
        "model2.add(Flatten())\n",
        "\n",
        "# Output layer\n",
        "model2.add(Dense(5, activation='softmax'))\n",
        "model2.summary()\n"
      ],
      "execution_count": 0,
      "outputs": [
        {
          "output_type": "stream",
          "text": [
            "Model: \"sequential_7\"\n",
            "_________________________________________________________________\n",
            "Layer (type)                 Output Shape              Param #   \n",
            "=================================================================\n",
            "embedding_7 (Embedding)      (None, 48, 150)           2059650   \n",
            "_________________________________________________________________\n",
            "spatial_dropout1d_7 (Spatial (None, 48, 150)           0         \n",
            "_________________________________________________________________\n",
            "conv1d_13 (Conv1D)           (None, 48, 64)            28864     \n",
            "_________________________________________________________________\n",
            "max_pooling1d_13 (MaxPooling (None, 24, 64)            0         \n",
            "_________________________________________________________________\n",
            "batch_normalization_7 (Batch (None, 24, 64)            256       \n",
            "_________________________________________________________________\n",
            "conv1d_14 (Conv1D)           (None, 24, 32)            6176      \n",
            "_________________________________________________________________\n",
            "max_pooling1d_14 (MaxPooling (None, 12, 32)            0         \n",
            "_________________________________________________________________\n",
            "flatten_7 (Flatten)          (None, 384)               0         \n",
            "_________________________________________________________________\n",
            "dense_7 (Dense)              (None, 5)                 1925      \n",
            "=================================================================\n",
            "Total params: 2,096,871\n",
            "Trainable params: 2,096,743\n",
            "Non-trainable params: 128\n",
            "_________________________________________________________________\n"
          ],
          "name": "stdout"
        }
      ]
    },
    {
      "cell_type": "code",
      "metadata": {
        "id": "DkRQUlWKkroK",
        "colab_type": "code",
        "outputId": "97c40c8c-033b-40ac-c075-bb55071b4e55",
        "colab": {
          "base_uri": "https://localhost:8080/",
          "height": 232
        }
      },
      "source": [
        "model2.compile(loss='categorical_crossentropy', optimizer='adam', metrics=['accuracy', f1_m, precision_m, recall_m])\n",
        "history = model2.fit(X_train, Y_train, validation_data=(X_val, Y_val), epochs=epochs, batch_size=batch_size, verbose=1)"
      ],
      "execution_count": 0,
      "outputs": [
        {
          "output_type": "stream",
          "text": [
            "Train on 265707 samples, validate on 113875 samples\n",
            "Epoch 1/5\n",
            "265707/265707 [==============================] - 22s 83us/step - loss: 0.8607 - acc: 0.6503 - f1_m: 0.5398 - precision_m: 0.5398 - recall_m: 0.5398 - val_loss: 0.6580 - val_acc: 0.7393 - val_f1_m: 0.6966 - val_precision_m: 0.6966 - val_recall_m: 0.6966\n",
            "Epoch 2/5\n",
            "265707/265707 [==============================] - 22s 83us/step - loss: 0.5847 - acc: 0.7733 - f1_m: 0.7366 - precision_m: 0.7366 - recall_m: 0.7366 - val_loss: 0.5588 - val_acc: 0.7854 - val_f1_m: 0.7567 - val_precision_m: 0.7567 - val_recall_m: 0.7567\n",
            "Epoch 3/5\n",
            "265707/265707 [==============================] - 22s 83us/step - loss: 0.4869 - acc: 0.8133 - f1_m: 0.7885 - precision_m: 0.7885 - recall_m: 0.7885 - val_loss: 0.5160 - val_acc: 0.8119 - val_f1_m: 0.7924 - val_precision_m: 0.7924 - val_recall_m: 0.7924\n",
            "Epoch 4/5\n",
            "265707/265707 [==============================] - 23s 85us/step - loss: 0.4263 - acc: 0.8394 - f1_m: 0.8208 - precision_m: 0.8208 - recall_m: 0.8208 - val_loss: 0.4933 - val_acc: 0.8241 - val_f1_m: 0.8073 - val_precision_m: 0.8073 - val_recall_m: 0.8073\n",
            "Epoch 5/5\n",
            "265707/265707 [==============================] - 23s 85us/step - loss: 0.3839 - acc: 0.8566 - f1_m: 0.8420 - precision_m: 0.8420 - recall_m: 0.8420 - val_loss: 0.4872 - val_acc: 0.8337 - val_f1_m: 0.8205 - val_precision_m: 0.8205 - val_recall_m: 0.8205\n"
          ],
          "name": "stdout"
        }
      ]
    },
    {
      "cell_type": "code",
      "metadata": {
        "id": "e_popOrproSh",
        "colab_type": "code",
        "colab": {}
      },
      "source": [
        "def print_metrics(accuracy, f1_score, precision, recall):\n",
        "  print('CNN MODEL PERFORMANCE')\n",
        "  print('Accuracy: ', np.round(accuracy, 4))\n",
        "  print('Precision: ', np.round(precision, 4))\n",
        "  print('Recall: ', np.round(recall, 4))\n",
        "  print('F1 Score: ', np.round(f1_score, 4))\n",
        "  print('\\n')"
      ],
      "execution_count": 0,
      "outputs": []
    },
    {
      "cell_type": "code",
      "metadata": {
        "id": "5qK_uMyVr6Ks",
        "colab_type": "code",
        "outputId": "3d40c001-e182-42c3-a152-bdbad6dba67e",
        "colab": {
          "base_uri": "https://localhost:8080/",
          "height": 159
        }
      },
      "source": [
        "loss, accuracy, f1_score, precision, recall = model2.evaluate(X_val, Y_val)\n",
        "print_metrics(accuracy, f1_score, precision, recall)"
      ],
      "execution_count": 0,
      "outputs": [
        {
          "output_type": "stream",
          "text": [
            "113875/113875 [==============================] - 8s 67us/step\n",
            "CNN MODEL PERFORMANCE\n",
            "Accuracy:  0.8337\n",
            "Precision:  0.8205\n",
            "Recall:  0.8205\n",
            "F1 Score:  0.8205\n",
            "\n",
            "\n"
          ],
          "name": "stdout"
        }
      ]
    },
    {
      "cell_type": "code",
      "metadata": {
        "id": "2nlIw4I_sUgy",
        "colab_type": "code",
        "outputId": "338d090f-54cd-45db-ff97-f0d42ea4bb36",
        "colab": {
          "base_uri": "https://localhost:8080/",
          "height": 301
        }
      },
      "source": [
        "plt.plot(history.history['acc'])\n",
        "plt.plot(history.history['val_acc'])\n",
        "plt.title('Accuracy')\n",
        "plt.ylabel('Accuracy')\n",
        "plt.xlabel('Epoch')\n",
        "plt.legend(['train', 'test'],fancybox=True, framealpha=1, shadow=True, borderpad=1, facecolor='white')\n",
        "plt.savefig('accuracy.png')\n",
        "#plt.show()\n",
        "#plt.savefig('accuracy.png')"
      ],
      "execution_count": 0,
      "outputs": [
        {
          "output_type": "display_data",
          "data": {
            "image/png": "[encoded data removed]",
            "text/plain": [
              "<Figure size 432x288 with 1 Axes>"
            ]
          },
          "metadata": {
            "tags": []
          }
        }
      ]
    },
    {
      "cell_type": "code",
      "metadata": {
        "id": "dGXxcKDFtVdN",
        "colab_type": "code",
        "outputId": "881f72ba-3343-4010-b337-fb8715c9fddf",
        "colab": {
          "base_uri": "https://localhost:8080/",
          "height": 285
        }
      },
      "source": [
        "# Get training and test loss histories\n",
        "training_loss = history.history['loss']\n",
        "test_loss = history.history['val_loss']\n",
        "\n",
        "# Create count of the number of epochs\n",
        "epoch_count = range(1, len(training_loss) + 1)\n",
        "\n",
        "# Visualize loss history\n",
        "plt.plot(epoch_count, training_loss, 'r')\n",
        "plt.plot(epoch_count, test_loss, 'b-')\n",
        "plt.legend(['Training Loss', 'Test Loss'],fancybox=True, framealpha=1, shadow=True, borderpad=1, facecolor='white')\n",
        "plt.xlabel('Epoch')\n",
        "plt.ylabel('Loss')\n",
        "plt.savefig('actual_loss')\n",
        "plt.show()"
      ],
      "execution_count": 0,
      "outputs": [
        {
          "output_type": "display_data",
          "data": {
            "image/png": "[encoded data removed]",
            "text/plain": [
              "<Figure size 432x288 with 1 Axes>"
            ]
          },
          "metadata": {
            "tags": []
          }
        }
      ]
    },
    {
      "cell_type": "code",
      "metadata": {
        "id": "o8em19geur4K",
        "colab_type": "code",
        "colab": {}
      },
      "source": [
        "#saving model to disk\n",
        "model2.save(\"1106937_1dconv_reg.h5\")"
      ],
      "execution_count": 0,
      "outputs": []
    }
  ]
}